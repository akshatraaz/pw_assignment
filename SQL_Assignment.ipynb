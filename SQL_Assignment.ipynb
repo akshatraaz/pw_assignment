{
 "cells": [
  {
   "cell_type": "raw",
   "id": "340c1da3-b580-467f-9246-07a55da07b98",
   "metadata": {},
   "source": [
    "Q1. What is a database? Differentiate between SQL and NoSQL databases.\n",
    "\n",
    "Ans. A database is an organized collection of structured information, or data, typically stored electronically in a computer system. \n",
    "A database is usually controlled by a database management system (DBMS).\n",
    "SQL is the programming language used to interface with relational databases. (Relational databases model data as records in rows and tables with logical links between them). \n",
    "NoSQL is a class of DBMs that are non-relational or document based database and generally do not use SQL."
   ]
  },
  {
   "cell_type": "raw",
   "id": "54b10446-816e-4335-8caa-0d1066e2a987",
   "metadata": {},
   "source": [
    "Q2. What is DDL? Explain why CREATE, DROP, ALTER, and TRUNCATE are used with an example.\n",
    "\n",
    "Ans. DDL stands for Data Definition Language, which is a subset of SQL (Structured Query Language) used to define the database schema and structure. \n",
    "DDL statements are used to create, modify, and delete database objects such as tables, indexes, and views.\n",
    "\n",
    "1. CREATE :- CREATE statement is used to create a new database object such as a table, view, or index. For example, to create a new table named \"employees\" with columns \"id\", \"name\", and \"salary\", the following SQL statement can be used:\n",
    " \n",
    "    CREATE TABLE employees (\n",
    "      id INT PRIMARY KEY,\n",
    "      name VARCHAR(50) NOT NULL,\n",
    "      salary INT\n",
    "    );\n",
    "\n",
    "2. DROP:- DROP statement is used to delete a database object such as a table or index. For example, to delete the \"employees\" table created in the previous example, the following SQL statement can be used.\n",
    "\n",
    "    DROP TABLE employees;\n",
    "    \n",
    "3. ALTER: ALTER statement is used to modify the structure of an existing database object such as a table or index. For example, to add a new column \"address\" to the \"employees\" table created earlier, the following SQL statement can be used.\n",
    "    ALTER TABLE employees ADD address VARCHAR(100);\n",
    "    \n",
    "4. TRUNCATE: TRUNCATE statement is used to delete all the data from a table while keeping the table structure intact. For example, to delete all the data from the \"employees\" table created earlier, the following SQL statement can be used.\n",
    "    TRUNCATE TABLE employees;\n"
   ]
  },
  {
   "cell_type": "raw",
   "id": "beebff46-05b3-4d60-996a-7bb43e78f1c5",
   "metadata": {},
   "source": [
    "Q3. What is DML? Explain INSERT, UPDATE, and DELETE with an example.\n",
    "\n",
    "Ans. DML stands for Data Manipulation Language, which is a subset of SQL (Structured Query Language) used to manipulate the data in a database. DML statements are used to insert, update, and delete data from database tables.\n",
    "\n",
    "1. INSERT: INSERT statement is used to add new rows to a table. For example, to add a new employee to the \"employees\" table created in the previous example, the following SQL statement can be used:\n",
    "    INSERT INTO employees (id, name, salary, address) VALUES (1, 'John', 50000, '123 Main St');\n",
    "This statement inserts a new row into the \"employees\" table with the specified values for the \"id\", \"name\", \"salary\", and \"address\" columns.\n",
    "\n",
    "2. UPDATE: UPDATE statement is used to modify the existing rows in a table. For example, to update the salary of the employee with id=1 to 60000, the following SQL statement can be used:\n",
    "    UPDATE employees SET salary=60000 WHERE id=1;\n",
    "This statement updates the \"salary\" column of the row in the \"employees\" table with id=1 to 60000.\n",
    "\n",
    "3. DELETE: DELETE statement is used to remove rows from a table. For example, to delete the employee with id=1 from the \"employees\" table, the following SQL statement can be used:\n",
    "    DELETE FROM employees WHERE id=1;\n",
    "This statement deletes the row from the \"employees\" table where the \"id\" column is equal to 1."
   ]
  },
  {
   "cell_type": "raw",
   "id": "941455b6-33b1-4131-b97b-113daa7bbea1",
   "metadata": {},
   "source": [
    "Q4. What is DQL? Explain SELECT with an example.\n",
    "\n",
    "Ans. DQL stands for Data Query Language, which is a subset of SQL (Structured Query Language) used to retrieve data from a database. DQL statements are used to perform queries on database tables.\n",
    "\n",
    "The most commonly used DQL statement is SELECT, which is used to retrieve data from one or more tables based on specified criteria. The SELECT statement can be used to retrieve all the rows and columns from a table, or a subset of the rows and columns based on specified conditions.\n",
    "\n",
    "The following is an example of using the SELECT statement to retrieve data from a table:\n",
    "\n",
    "Assume we have a table named \"students\" with the following columns: id, name, age, and grade. To retrieve all the rows and columns from the \"students\" table, the following SQL statement can be used:\n",
    "    SELECT * FROM students;\n",
    "This statement returns all the rows and columns from the \"students\" table. The asterisk (*) is used to indicate that all the columns should be retrieved."
   ]
  },
  {
   "cell_type": "raw",
   "id": "d3e630f5-b726-4df6-a62c-809e52d65bb1",
   "metadata": {},
   "source": [
    "Q5. Explain Primary Key and Foreign Key.\n",
    "\n",
    "Ans. Primary Key:  \n",
    "\n",
    "primary key is a unique identifier for a row in a database table. It is used to enforce data integrity and ensure that each row in the table can be uniquely identified. A primary key can be a single column or a combination of columns that uniquely identify each row in the table. A primary key is usually defined when the table is created, and it cannot be null or duplicate.\n",
    "\n",
    "For example, in a table of employees, the primary key might be the employee ID column. This ensures that each employee has a unique identifier in the table.\n",
    "\n",
    "Foreign Key: \n",
    "\n",
    "A foreign key is a column or combination of columns in one table that refers to the primary key of another table. It is used to establish a relationship between two tables in a database. A foreign key enforces referential integrity, which means that it ensures that the data in the related tables remains consistent and accurate.\n",
    "\n",
    "For example, in a table of orders, the foreign key might be the customer ID column. This column would reference the primary key of the customer table, which would ensure that all orders are associated with a valid customer."
   ]
  },
  {
   "cell_type": "raw",
   "id": "2feb59e9-9fc4-4c0e-ad66-6e7e148bdcad",
   "metadata": {},
   "source": [
    "Q6. Write a python code to connect MySQL to python. Explain the cursor() and execute() method.\n",
    "Code is below here:\n",
    "\n",
    "import mysql.connector\n",
    "mydb = mysql.connector.connect(\n",
    "  host=\"localhost\",\n",
    "  user=\"abc\",\n",
    "  password=\"password\"\n",
    ")\n",
    "print(mydb)\n",
    "mycursor = mydb.cursor()\n",
    "mycursor.execute(\"SHOW DATABASES\")\n",
    "for x in mycursor:\n",
    "  print(x)\n",
    "  \n",
    "Cursor Method: After the connection is established, a cursor object is created using the cursor() method of the connection object. The cursor object is used to execute SQL queries and fetch the results.\n",
    "\n",
    "Execute Method: The execute() method of the cursor object is used to execute an SQL query. The SQL query is passed as an argument to the execute() method. In the example above, a SELECT query is executed to retrieve all the rows from the \"table_name\" table."
   ]
  },
  {
   "cell_type": "raw",
   "id": "dedfd691-e345-42d9-8170-f70e1eb2bc2f",
   "metadata": {},
   "source": [
    "Q7. Give the order of execution of SQL clauses in an SQL query.\n",
    "\n",
    "The order of execution of SQL clauses in an SQL query is as follows:\n",
    "\n",
    "1. FROM clause: This clause specifies the table or tables from which data is retrieved.\n",
    "\n",
    "2. JOIN clause: If the query involves multiple tables, the JOIN clause specifies how the tables are related to each other.\n",
    "\n",
    "3. WHERE clause: This clause filters the rows returned by the query based on specified conditions.\n",
    "\n",
    "4. GROUP BY clause: This clause groups the result set by one or more columns.\n",
    "\n",
    "5. HAVING clause: This clause filters the groups returned by the GROUP BY clause based on specified conditions.\n",
    "\n",
    "6. SELECT clause: This clause specifies the columns to be retrieved from the table.\n",
    "\n",
    "7. ORDER BY clause: This clause sorts the result set by one or more columns.\n",
    "\n",
    "8. LIMIT clause: This clause limits the number of rows returned by the query.\n",
    "\n",
    "Note that not all of these clauses are required in every SQL query, and some of them can be omitted depending on the specific query being executed. The clauses can also be reordered depending on the specific requirements of the query. However, in general, the clauses are executed in the order listed above"
   ]
  },
  {
   "cell_type": "code",
   "execution_count": null,
   "id": "0d712071-2088-4992-b65b-64ac61b2d0a0",
   "metadata": {},
   "outputs": [],
   "source": []
  }
 ],
 "metadata": {
  "kernelspec": {
   "display_name": "Python 3 (ipykernel)",
   "language": "python",
   "name": "python3"
  },
  "language_info": {
   "codemirror_mode": {
    "name": "ipython",
    "version": 3
   },
   "file_extension": ".py",
   "mimetype": "text/x-python",
   "name": "python",
   "nbconvert_exporter": "python",
   "pygments_lexer": "ipython3",
   "version": "3.10.8"
  }
 },
 "nbformat": 4,
 "nbformat_minor": 5
}
