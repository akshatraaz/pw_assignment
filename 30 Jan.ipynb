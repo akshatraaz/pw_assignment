{
 "cells": [
  {
   "cell_type": "markdown",
   "id": "ccf032a2-5f82-4381-99f1-a2a2ac034644",
   "metadata": {},
   "source": [
    "### 1. marks get from user and display batches"
   ]
  },
  {
   "cell_type": "code",
   "execution_count": 4,
   "id": "83a9873e-8d56-4afb-8672-d891f801a981",
   "metadata": {},
   "outputs": [
    {
     "name": "stdin",
     "output_type": "stream",
     "text": [
      "Enter Your Percentage 56\n"
     ]
    },
    {
     "name": "stdout",
     "output_type": "stream",
     "text": [
      "Grade D\n"
     ]
    }
   ],
   "source": [
    "# 1. marks get from user and display batches\n",
    "\n",
    "marks = float(input(\"Enter Your Percentage\"))\n",
    "if marks > 90:\n",
    "    print(\"Grade A\")\n",
    "elif marks >80 and marks <= 90:\n",
    "    print(\"Grade B\")\n",
    "elif marks >60 and marks <= 80:\n",
    "    print(\"Grade C\")\n",
    "else :\n",
    "    print(\"Grade D\")"
   ]
  },
  {
   "cell_type": "markdown",
   "id": "e12f0d91-6d3c-4efa-8769-712d413f7d5e",
   "metadata": {},
   "source": [
    "### 2. Cost of the Bike and Display the Road Tax Accordinly"
   ]
  },
  {
   "cell_type": "code",
   "execution_count": 3,
   "id": "3ecc548c-ed1c-4bf3-9ef7-242e19733c35",
   "metadata": {},
   "outputs": [
    {
     "name": "stdin",
     "output_type": "stream",
     "text": [
      "Enter the Bike Price to Know Road Tax 1000000\n"
     ]
    },
    {
     "name": "stdout",
     "output_type": "stream",
     "text": [
      "Road Tax will be 15% of the bike Price\n"
     ]
    }
   ],
   "source": [
    "# 2. Cost of the Bike and Display the Road Tax Accordinly\n",
    "\n",
    "price = int(input(\"Enter the Bike Price to Know Road Tax\"))\n",
    "if price > 100000 :\n",
    "    print(\"Road Tax will be 15% of the bike Price\")\n",
    "elif price > 50000 and price <= 100000 :\n",
    "    print(\"Road Tax will be 10% of the bike Price\")\n",
    "else :\n",
    "    print(\"Road Tax will be 5% of the bike Price\")"
   ]
  },
  {
   "cell_type": "markdown",
   "id": "1b5be654-8d15-402a-b625-3ae6b9732bca",
   "metadata": {},
   "source": [
    "### 3. Accept the City from the user and display the Monument of the city"
   ]
  },
  {
   "cell_type": "code",
   "execution_count": 1,
   "id": "07c2b12f-8e91-4d5f-a55e-769e23efb7f9",
   "metadata": {},
   "outputs": [
    {
     "name": "stdin",
     "output_type": "stream",
     "text": [
      "Enter your city  delhi\n"
     ]
    },
    {
     "name": "stdout",
     "output_type": "stream",
     "text": [
      "Red Fort\n"
     ]
    }
   ],
   "source": [
    "# 3. Accept the City from the user and display the Monument of the city\n",
    "\n",
    "a,b,c = \"delhi\", \"agra\", \"jaipur\"\n",
    "city = str(input(\"Enter your city \"))\n",
    "if city == \"delhi\":\n",
    "    print(\"Red Fort\")\n",
    "elif city == \"agra\":\n",
    "    print(\"Taj Mahal\")\n",
    "elif city == \"jaipur\":\n",
    "    print(\"Jal Mahal\")\n",
    "else :\n",
    "    print(\"Wrong Input\")"
   ]
  },
  {
   "cell_type": "markdown",
   "id": "cda41c14-7a5e-450f-ba39-6942eafd7efd",
   "metadata": {},
   "source": [
    "### 4. Given number can be divided by 3 before it is less than or equals to 10"
   ]
  },
  {
   "cell_type": "code",
   "execution_count": 2,
   "id": "183bb55c-f0c4-4257-b3f5-f15d7143bf03",
   "metadata": {},
   "outputs": [
    {
     "name": "stdout",
     "output_type": "stream",
     "text": [
      "3\n",
      "6\n",
      "9\n"
     ]
    },
    {
     "data": {
      "text/plain": [
       "[1, 2, 3, 4, 5, 6, 7, 8, 9, 10]"
      ]
     },
     "execution_count": 2,
     "metadata": {},
     "output_type": "execute_result"
    }
   ],
   "source": [
    "# 4. Given number can be divided by 3 before it is less than or equals to 10\n",
    "\n",
    "l = []\n",
    "for i in range (1,11):\n",
    "    if i % 3 == 0:\n",
    "        print(i)\n",
    "    l.append(i)\n",
    "l"
   ]
  },
  {
   "cell_type": "markdown",
   "id": "fe9ec5fa-ea18-41e9-91c3-d02601f3dc25",
   "metadata": {},
   "source": [
    "5. In Python, \"While\" Loop is used to repeat a specific block of code an unknown number of times, until a condition is met. Once, A while loop evaluates the condition. If the condition evaluates to True , the code inside the while loop is executed.\n",
    "\n",
    "For example, if we want to ask a user for a number between 1 and 10, we don't know how many times the user may enter a larger number, so we keep asking \"while the number is not between 1 and 10\"."
   ]
  },
  {
   "cell_type": "markdown",
   "id": "4d55760b-294b-496a-bcea-f836e50e9c61",
   "metadata": {},
   "source": [
    "6. 3 different pattern wth the use of nested while loop."
   ]
  },
  {
   "cell_type": "code",
   "execution_count": 5,
   "id": "bb92165d-daf8-44d3-8401-0f12cd457692",
   "metadata": {},
   "outputs": [
    {
     "name": "stdout",
     "output_type": "stream",
     "text": [
      "\n",
      "1 \n",
      "2 2 \n",
      "3 3 3 \n",
      "4 4 4 4 \n",
      "5 5 5 5 5 \n",
      "6 6 6 6 6 6 \n",
      "7 7 7 7 7 7 7 \n"
     ]
    }
   ],
   "source": [
    "#1. Simple number pattern.\n",
    "rows = 8\n",
    "# or we can use follow function to get input from user \n",
    "# rows = int(input('Enter the number of rows'))\n",
    "# outer loop\n",
    "for i in range(rows):\n",
    "    # nested loop\n",
    "    for j in range(i):\n",
    "        # display number\n",
    "        print(i, end=' ')\n",
    "    # new line after each row\n",
    "    print('')\n"
   ]
  },
  {
   "cell_type": "code",
   "execution_count": 7,
   "id": "327148ea-d89d-41f3-b43e-78333681f236",
   "metadata": {},
   "outputs": [
    {
     "name": "stdout",
     "output_type": "stream",
     "text": [
      "1 1 1 1 1 \n",
      "2 2 2 2 \n",
      "3 3 3 \n",
      "4 4 \n",
      "5 \n"
     ]
    }
   ],
   "source": [
    "#2.  inverted pyramid Pattern with no\n",
    "\n",
    "rows = 5\n",
    "b = 0\n",
    "# reverse for loop from 5 to 0\n",
    "for i in range(rows, 0, -1):\n",
    "    b += 1\n",
    "    for j in range(1, i + 1):\n",
    "        print(b, end=' ')\n",
    "    print('\\r')"
   ]
  },
  {
   "cell_type": "code",
   "execution_count": 8,
   "id": "6008b257-3e7c-4fcf-bc14-274261af9697",
   "metadata": {},
   "outputs": [
    {
     "name": "stdout",
     "output_type": "stream",
     "text": [
      "5 5 5 5 5 \n",
      "5 5 5 5 \n",
      "5 5 5 \n",
      "5 5 \n",
      "5 \n"
     ]
    }
   ],
   "source": [
    "#3. Inverted Pyramid pattern with the same digit\n",
    "rows = 5\n",
    "num = rows\n",
    "# reverse for loop\n",
    "for i in range(rows, 0, -1):\n",
    "    for j in range(0, i):\n",
    "        print(num, end=' ')\n",
    "    print(\"\\r\")"
   ]
  },
  {
   "cell_type": "markdown",
   "id": "46ee7d6d-ee1d-441e-92b5-4b2239b77e66",
   "metadata": {},
   "source": [
    "7. Reverse a while loop to showing no from 10 to 1."
   ]
  },
  {
   "cell_type": "code",
   "execution_count": 23,
   "id": "e1a87664-791b-4ee7-8b15-1f5bafb6195a",
   "metadata": {},
   "outputs": [
    {
     "name": "stdout",
     "output_type": "stream",
     "text": [
      "The reverse number is : 987654321\n"
     ]
    }
   ],
   "source": [
    "#number = int(input(\"Enter the integer number: \"))\n",
    "number = (123456789)\n",
    "# Initiate value to null  \n",
    "revs_number = 0  \n",
    "  \n",
    "# reverse the integer number using the while loop  \n",
    "  \n",
    "while (number > 0):  \n",
    "    # Logic  \n",
    "    remainder = number % 10  \n",
    "    revs_number = (revs_number * 10) + remainder  \n",
    "    number = number // 10  \n",
    "  \n",
    "# Display the result  \n",
    "print(\"The reverse number is : {}\".format(revs_number))  "
   ]
  },
  {
   "cell_type": "markdown",
   "id": "c425ba16-aa5a-4a20-84a0-64f021a34925",
   "metadata": {},
   "source": [
    "8. Questions is same as question 7."
   ]
  },
  {
   "cell_type": "code",
   "execution_count": null,
   "id": "3f154a47-97bc-402a-b1dd-44b71eb126fd",
   "metadata": {},
   "outputs": [],
   "source": []
  }
 ],
 "metadata": {
  "kernelspec": {
   "display_name": "Python 3 (ipykernel)",
   "language": "python",
   "name": "python3"
  },
  "language_info": {
   "codemirror_mode": {
    "name": "ipython",
    "version": 3
   },
   "file_extension": ".py",
   "mimetype": "text/x-python",
   "name": "python",
   "nbconvert_exporter": "python",
   "pygments_lexer": "ipython3",
   "version": "3.10.8"
  }
 },
 "nbformat": 4,
 "nbformat_minor": 5
}
