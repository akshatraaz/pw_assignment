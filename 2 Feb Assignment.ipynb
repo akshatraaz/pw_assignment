{
 "cells": [
  {
   "cell_type": "code",
   "execution_count": null,
   "id": "abeca852-c369-498f-b31d-6086b81622de",
   "metadata": {},
   "outputs": [],
   "source": [
    "# Q1. Explain with an example each when to use a for loop and a while loop.\n",
    "\n",
    "Ans. Use For Loop: We can use a for loop when iterate over an array and when we have to execute loop n times.\n",
    "     Uses of While Loop: We should use while loop when reading a file into a variable, asking for user input and  when the increment value \n",
    "     is nonstandard.\n"
   ]
  },
  {
   "cell_type": "code",
   "execution_count": 4,
   "id": "e92f4ba6-5253-4244-99ef-adca6093c4ed",
   "metadata": {},
   "outputs": [
    {
     "name": "stdout",
     "output_type": "stream",
     "text": [
      "The sum of the first natural number is:  55   and the product is: 3628800\n"
     ]
    }
   ],
   "source": [
    "# Q2. Write a python program to print the sum and product of the first 10 natural numbers using for and while loop.\n",
    "# 2. While Loop\n",
    "while_sum = 0\n",
    "while_prod = 1\n",
    "j = 1\n",
    "while j <= 10:\n",
    "    while_sum = while_sum + j\n",
    "    while_prod = while_prod * j\n",
    "    j += 1\n",
    "print(f\"The sum of the first natural number is:  {while_sum}   and the product is: {while_prod}\")"
   ]
  },
  {
   "cell_type": "code",
   "execution_count": 6,
   "id": "ac6562ff-d429-4f27-b818-f3fa7f337c5d",
   "metadata": {},
   "outputs": [
    {
     "name": "stdout",
     "output_type": "stream",
     "text": [
      "The sum of the first natural number is:  55   and the product is: 3628800\n"
     ]
    }
   ],
   "source": [
    "# 2. For Loop\n",
    "sum = 0\n",
    "product = 1\n",
    "for i in range (1,11):\n",
    "    sum = sum + i\n",
    "    product = product * i\n",
    "print(f\"The sum of the first natural number is:  {sum}   and the product is: {product}\")\n"
   ]
  },
  {
   "cell_type": "code",
   "execution_count": 7,
   "id": "0f557b5c-ba25-4c6e-a264-00b1024e0a9f",
   "metadata": {},
   "outputs": [
    {
     "name": "stdin",
     "output_type": "stream",
     "text": [
      "Enter Your Unit 310\n"
     ]
    },
    {
     "name": "stdout",
     "output_type": "stream",
     "text": [
      "bill 2250.0\n"
     ]
    }
   ],
   "source": [
    "# Q3. Create a python program to compute the electricity bill for a household. \n",
    "unit = int(input(\"Enter Your Unit\"))\n",
    "if unit <= 100:\n",
    "    print(\"bill\", unit*4.5)\n",
    "elif unit <= 200:\n",
    "    print(\"bill\", 4.5*100 + 6*(unit-100))\n",
    "elif unit <= 300:\n",
    "    print(\"bill\", 4.5*100 + 6*100 + 10*(unit-200))\n",
    "else :\n",
    "    print(\"bill\", 4.5*100 + 6*100 + 10*100 + 20*(unit-300))"
   ]
  },
  {
   "cell_type": "code",
   "execution_count": null,
   "id": "31319fff-c36d-4494-950f-aed1dd7559d0",
   "metadata": {},
   "outputs": [],
   "source": [
    "Q4. Create a list of numbers from 1 to 100. Use for loop and while loop to calculate the cube of each number \n",
    "and if the cube of that number is divisible by 4 or 5 then append that number in a list and print that list."
   ]
  },
  {
   "cell_type": "code",
   "execution_count": 11,
   "id": "0c87561d-d01d-430f-b8b2-6a9087c81b92",
   "metadata": {},
   "outputs": [
    {
     "name": "stdout",
     "output_type": "stream",
     "text": [
      "[2, 4, 5, 6, 8, 10, 12, 14, 15, 16, 18, 20, 22, 24, 25, 26, 28, 30, 32, 34, 35, 36, 38, 40, 42, 44, 45, 46, 48, 50, 52, 54, 55, 56, 58, 60, 62, 64, 65, 66, 68, 70, 72, 74, 75, 76, 78, 80, 82, 84, 85, 86, 88, 90, 92, 94, 95, 96, 98, 100]\n"
     ]
    }
   ],
   "source": [
    "#Ans\n",
    "# Via While loop\n",
    "cubes = []\n",
    "i = 1\n",
    "while i<= 100:\n",
    "    cube = i**3\n",
    "    if cube % 4 == 0 or cube %5 == 0:\n",
    "        cubes.append(i)\n",
    "    i += 1\n",
    "    \n",
    "print(cubes)"
   ]
  },
  {
   "cell_type": "code",
   "execution_count": 12,
   "id": "442d20cf-f4f6-4b84-9c1d-8f47799a1a47",
   "metadata": {},
   "outputs": [
    {
     "name": "stdout",
     "output_type": "stream",
     "text": [
      "[2, 4, 5, 6, 8, 10, 12, 14, 15, 16, 18, 20, 22, 24, 25, 26, 28, 30, 32, 34, 35, 36, 38, 40, 42, 44, 45, 46, 48, 50, 52, 54, 55, 56, 58, 60, 62, 64, 65, 66, 68, 70, 72, 74, 75, 76, 78, 80, 82, 84, 85, 86, 88, 90, 92, 94, 95, 96, 98, 100]\n"
     ]
    }
   ],
   "source": [
    "# Via for loop\n",
    "cubes = []\n",
    "\n",
    "for i in range(1,101):\n",
    "    cube = i **3\n",
    "    if cube % 4 == 0 or cube % 5 == 0:\n",
    "        cubes.append(i)\n",
    "        \n",
    "print(cubes)"
   ]
  },
  {
   "cell_type": "code",
   "execution_count": null,
   "id": "308dd77a-c464-4d32-9496-997fa01b7207",
   "metadata": {},
   "outputs": [],
   "source": [
    "Q5. Write a program to filter count vowels in the below-given string. string = \"I want to become a data scientist\""
   ]
  },
  {
   "cell_type": "code",
   "execution_count": 14,
   "id": "ffd4ceb6-71e6-46d8-9cb1-be72bc1b5418",
   "metadata": {},
   "outputs": [
    {
     "name": "stdout",
     "output_type": "stream",
     "text": [
      "Total vowel no is:  12\n"
     ]
    }
   ],
   "source": [
    "# Answer\n",
    "string = \"I want to become a data scientist\"\n",
    "vowel = 'aeiou'\n",
    "vowel_count = 0\n",
    "for char in string.lower():\n",
    "    if char in vowel:\n",
    "        vowel_count += 1\n",
    "    \n",
    "print(\"Total vowel no is: \", vowel_count)"
   ]
  },
  {
   "cell_type": "code",
   "execution_count": null,
   "id": "8d1d66c8-0a3e-4957-aaef-acc7540961dd",
   "metadata": {},
   "outputs": [],
   "source": []
  }
 ],
 "metadata": {
  "kernelspec": {
   "display_name": "Python 3 (ipykernel)",
   "language": "python",
   "name": "python3"
  },
  "language_info": {
   "codemirror_mode": {
    "name": "ipython",
    "version": 3
   },
   "file_extension": ".py",
   "mimetype": "text/x-python",
   "name": "python",
   "nbconvert_exporter": "python",
   "pygments_lexer": "ipython3",
   "version": "3.10.8"
  }
 },
 "nbformat": 4,
 "nbformat_minor": 5
}
