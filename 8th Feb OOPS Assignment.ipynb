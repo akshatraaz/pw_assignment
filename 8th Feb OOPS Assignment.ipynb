{
 "cells": [
  {
   "cell_type": "markdown",
   "id": "76ce09dc-0120-4151-bae3-12471d7fcd9b",
   "metadata": {},
   "source": [
    "1. What is Abstraction in OOps? Explain with an example.\n",
    "\n",
    "Ans.- Abstraction is selecting data from a larger pool to show only relevant details of the object to the user. It helps in reducing programming complexity and efforts. It is one of the most important concepts of OOPs.\n",
    "\n",
    "Example - Real world example of abstraction is in banking system. When we go to the bank for deposite or withdraw money. We fill up the form for that and take only that necessary step which we need. We shouldn't need to know, what internal machanism to work for complete this process."
   ]
  },
  {
   "cell_type": "markdown",
   "id": "f450e449-0995-405f-b6c1-03928e126d11",
   "metadata": {},
   "source": [
    "2. Differentiate between Abstraction and Encapsulation. Explain with an example.\n",
    "\n",
    "Ans. - Abstraction is a way to hiding the details and implementation of the code.\n",
    "Encapsulation is a mechanism of wrapping the data (variables) and code acting on the data (methods) together as a single unit. \n",
    "In encapsulation, the variables of a class will be hidden from other classes, and can be accessed only through the methods of their current class.\n",
    "\n",
    "Example of Abstraction - Your car is a great example of abstraction. You can start a car by turning the key or pressing the start button. You \n",
    "don't need to know how the engine is getting started, what all components your car has. The car internal implementation and complex logic is \n",
    "completely hidden from the user.\n",
    "\n",
    "Example of Encapsulation - Let's say we have a company selling courses to students, engineers and professionals.\n",
    "The different sections of this company include, operations, finance, accounts, sales, etc. Now, if an employee from the accounts section \n",
    "needs the records of sales in 2022, then he/ she cannot directly access it."
   ]
  },
  {
   "cell_type": "markdown",
   "id": "65f25435-7420-4184-bc1b-4db51cf727ec",
   "metadata": {},
   "source": [
    "3. What is abc module in python? Why is it used?\n",
    "\n",
    "Ans. - This module provides the infrastructure for defining abstract base classes (ABCs) in Python, The 'abc' module in the Python library provides \n",
    "the infrastructure for defining custom abstract base classes. Abstract class cannot be instantiated in python. An Abstract method can be call by its \n",
    "subclasses."
   ]
  },
  {
   "cell_type": "markdown",
   "id": "264fb020-61cc-4290-a610-948eb5719f95",
   "metadata": {},
   "source": [
    "4. How can we achieve data abstraction?\n",
    "\n",
    "Ans. - In Python, abstraction can be achieved by having/using abstract classes and methods in our programs. Understanding Abstract Methods and Classes: \n",
    "    An abstract method is a method that is declared, but does not contain implementation."
   ]
  },
  {
   "cell_type": "markdown",
   "id": "713d672a-c0ee-4a83-956d-0482d254d7e4",
   "metadata": {},
   "source": [
    "5. Can we create an instance of an abstract class? Explain your answer.\n",
    "\n",
    "Ans. - Abstract classes cannot be instantiated, but they can be subclassed. When an abstract class is subclassed, the subclass usually provides \n",
    "implementations for all of the abstract methods in its parent class. However, if it does not, then the subclass must also be declared abstract ."
   ]
  },
  {
   "cell_type": "code",
   "execution_count": null,
   "id": "2f40561f-be9b-4d6b-97e0-d3fe0d40b485",
   "metadata": {},
   "outputs": [],
   "source": []
  }
 ],
 "metadata": {
  "kernelspec": {
   "display_name": "Python 3 (ipykernel)",
   "language": "python",
   "name": "python3"
  },
  "language_info": {
   "codemirror_mode": {
    "name": "ipython",
    "version": 3
   },
   "file_extension": ".py",
   "mimetype": "text/x-python",
   "name": "python",
   "nbconvert_exporter": "python",
   "pygments_lexer": "ipython3",
   "version": "3.10.8"
  }
 },
 "nbformat": 4,
 "nbformat_minor": 5
}
