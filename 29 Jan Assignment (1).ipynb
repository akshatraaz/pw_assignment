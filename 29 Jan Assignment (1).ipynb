{
 "cells": [
  {
   "cell_type": "markdown",
   "id": "0158375a-ccc0-42a7-b458-ce7d7e8f8bc6",
   "metadata": {},
   "source": [
    "1. Pyton Programming Language developed by Guido van Rossum."
   ]
  },
  {
   "cell_type": "markdown",
   "id": "77686f09-18ed-4587-ae3e-91fe3a954595",
   "metadata": {},
   "source": [
    "2. Python supports Object-Oriented Programming and Structured Programming included with many features supports Functional Programming and Aspect-Oriented Programming."
   ]
  },
  {
   "cell_type": "markdown",
   "id": "56a5429b-127b-47e3-adf9-f6e93102e78e",
   "metadata": {},
   "source": [
    "3. Yes, Python is a case sensitive language when dealing with identifiers."
   ]
  },
  {
   "cell_type": "markdown",
   "id": "7f0ae6a2-ec81-4332-8456-bc732f0da324",
   "metadata": {},
   "source": [
    "4. .py is the correct extension of the python file."
   ]
  },
  {
   "cell_type": "markdown",
   "id": "9e0550f8-1fe4-4fca-a95a-827199d2888f",
   "metadata": {},
   "source": [
    "5. Python is an interpreted language which means source code of the Python Programme is converted into byte-code and then excuted on Python Virtual Machine."
   ]
  },
  {
   "cell_type": "markdown",
   "id": "27ddad8c-38f9-4892-8dc1-c3be93e7ff52",
   "metadata": {},
   "source": [
    "6. Python uses indentation to define blocks of code. Indentations are simply spaces or tabs used as an indicator that is part of the indent code child. Braces {} are used to define a block of code in most programming languages, like C, C++, and Java. But this indentation makes python unique among all programming languages."
   ]
  },
  {
   "cell_type": "markdown",
   "id": "3879bede-5592-476d-a9bf-1d5911d881df",
   "metadata": {},
   "source": [
    "7. Hash Character (#) or Three Quote used to give single line Comment."
   ]
  },
  {
   "cell_type": "code",
   "execution_count": 9,
   "id": "1963d285-d193-4b1d-9db4-9baf7e046cc6",
   "metadata": {},
   "outputs": [
    {
     "name": "stdout",
     "output_type": "stream",
     "text": [
      "Current Python Version- 3.10.8\n"
     ]
    }
   ],
   "source": [
    "# 8. First we import from following command.\n",
    "from platform import python_version\n",
    "print(\"Current Python Version-\", python_version())"
   ]
  },
  {
   "cell_type": "markdown",
   "id": "0569c9fc-3ed5-4781-8ef1-9ba29af6a1c2",
   "metadata": {},
   "source": [
    "9. Python supports the creation of anonymous functions at Runtime using a construct called \"lambda\" ."
   ]
  },
  {
   "cell_type": "markdown",
   "id": "33805417-d21c-43e7-b749-506fa6afb9a0",
   "metadata": {},
   "source": [
    "10. Pip Stands for Python is --> \"Preferred Installer Programme\"."
   ]
  },
  {
   "cell_type": "markdown",
   "id": "7947c059-b244-46fb-99e1-e82cc9f0c068",
   "metadata": {},
   "source": [
    "11. There are many function prebuilt in Python in following:\n",
    "    1. print()\n",
    "    2. type()\n",
    "    3. input()\n",
    "    4. sorted()\n",
    "    5. len()\n",
    "    6. sum()"
   ]
  },
  {
   "cell_type": "markdown",
   "id": "605282da-1817-4f6a-af1b-e96d9ad2b5b6",
   "metadata": {},
   "source": [
    "12. The maximum length of identifiers is 79 characters"
   ]
  },
  {
   "cell_type": "markdown",
   "id": "760e9855-1330-4c31-a616-6141c7a3589b",
   "metadata": {},
   "source": [
    "13. There are many benefits of using Python. Some of them are following:\n",
    "        1. Simple and Easy to learn.\n",
    "        2. Using less code to write a programme.\n",
    "        3. Scientific and Mathematical computing.\n",
    "        4. Computer Graphics.\n",
    "        5. Game Development.\n",
    "        6. Python is a Preferred language for Data Science.\n",
    "        7. Mapping and Geography.\n",
    "        8. Security and Penetration testing.\n",
    "        9. System Automation.\n",
    "        10. There are many libraries available which makes easy to use for Visualization, Web Dev, Data Wrangling etc."
   ]
  },
  {
   "cell_type": "markdown",
   "id": "51baf2ea-c16a-4ad6-a282-34baeb171b17",
   "metadata": {},
   "source": [
    "14. Memory management in Python involves a private heap containing all Python objects and data structures. The management of this private heap is ensured internally by the Python memory manager.\n"
   ]
  },
  {
   "cell_type": "markdown",
   "id": "c4fa979f-c0f6-4093-baee-abedf8f0a2d9",
   "metadata": {},
   "source": [
    "15. To install Python in Windows, we have to follow some step.\n",
    "        1. First Go to Browser And Open Python official website and Download the Python latest Version.\n",
    "        2. after the download, open the location where files were downloaded and double click to install.\n",
    "        3. Installation process were started.\n",
    "    Add Path Variable as follows:\n",
    "        1. Open to PC Properties (Right click to this pc and choose properties option there)\n",
    "        2. Click the advance sytem setting.\n",
    "        3. Click the Environment Variable button\n",
    "        4. In the System variables section, selecting the Path variable and clicking on Edit. The next screen will show all the directories that are currently a part of the PATH variable.\n",
    "        5. Click on New and entering Python’s install directory."
   ]
  },
  {
   "cell_type": "markdown",
   "id": "76a802d8-ad44-4ace-8001-67c15928ffb0",
   "metadata": {},
   "source": [
    "16. The indentation in Python is very important because Indentation refers to the spaces at the beginning of a code line. Where in other programming languages the indentation in code is for readability only"
   ]
  },
  {
   "cell_type": "code",
   "execution_count": null,
   "id": "4d8c8f05-fc38-4db7-bfbd-f2690d125a15",
   "metadata": {},
   "outputs": [],
   "source": []
  }
 ],
 "metadata": {
  "kernelspec": {
   "display_name": "Python 3 (ipykernel)",
   "language": "python",
   "name": "python3"
  },
  "language_info": {
   "codemirror_mode": {
    "name": "ipython",
    "version": 3
   },
   "file_extension": ".py",
   "mimetype": "text/x-python",
   "name": "python",
   "nbconvert_exporter": "python",
   "pygments_lexer": "ipython3",
   "version": "3.10.8"
  }
 },
 "nbformat": 4,
 "nbformat_minor": 5
}
