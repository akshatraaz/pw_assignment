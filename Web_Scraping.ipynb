{
 "cells": [
  {
   "cell_type": "code",
   "execution_count": null,
   "id": "689bfeea-cd5e-4cb6-aafe-302ab67c2951",
   "metadata": {},
   "outputs": [],
   "source": [
    "Q1. What is Web Scraping? Why is it Used? Give three areas where Web Scraping is used to get data.\n",
    "\n",
    "Ans. Web Scraping is also known as web data extraction and web harvesting, web scraping is the process of extract content and data from a website.\n",
    "Web scraping extracts underlying HTML code and data stored in a database.\n",
    "\n",
    "There are many reasonto use Web Scrapping, Some of them are following:\n",
    "    1. Web Scrapping makes it easy to extract data and help to get useful information in it.\n",
    "    2. Monitor to Market Trends.\n",
    "    3. Keeping A Watch on Your Competitors.\n",
    "    4. Maintain to Brand Identity.\n",
    "    5. Social Media Management.\n",
    "    6. SEO Enhancement.\n",
    "    7. It helps to to track Trends. Etc.\n",
    "    \n",
    "Areas where used web scraping to get data:\n",
    "    1. Price Comparision or Product Comparison\n",
    "    2. E-commrce website to get information of the product\n",
    "    3. To get companies information in a structured way."
   ]
  },
  {
   "cell_type": "code",
   "execution_count": null,
   "id": "03e89a82-6667-4294-89af-28c4182f46f7",
   "metadata": {},
   "outputs": [],
   "source": [
    "Q2. What are the different methods used for Web Scraping?\n",
    "\n",
    "Ans. Following methods is used for Web Scrapping:\n",
    "    1. HTML Parsing\n",
    "    2. DOM Parsing\n",
    "    3. XPath\n",
    "    4. Google Sheets\n",
    "    5. API Scraping"
   ]
  },
  {
   "cell_type": "code",
   "execution_count": null,
   "id": "fcd5b2fb-a0c6-4a09-9826-66dfbb2d11c6",
   "metadata": {},
   "outputs": [],
   "source": [
    "Q3. What is Beautiful Soup? Why is it used?\n",
    "\n",
    "Ans. Beautiful Soup is a Python library for extracting data. It is designed for web scraping or image scrapping from a web pages in html \n",
    "format or binary format."
   ]
  },
  {
   "cell_type": "code",
   "execution_count": null,
   "id": "e5bcc7b6-d8d4-40cd-9f8e-41ecaddcfd8a",
   "metadata": {},
   "outputs": [],
   "source": [
    "Q4. Why is flask used in this Web Scraping project?\n",
    "\n",
    "Ans. Flask is a lightweight framework to manipulate a websites. We can use this to parse our collected data and display it as HTML in a new HTML \n",
    "file. The requests module allows us to send http requests to the website we want to scrape. The first line imports the Flask class and the \n",
    "render_template method from the flask library."
   ]
  },
  {
   "cell_type": "code",
   "execution_count": null,
   "id": "81e5fc08-6cff-4166-b7e7-a0b2ecd04451",
   "metadata": {},
   "outputs": [],
   "source": [
    "Q5. Write the names of AWS services used in this project. Also, explain the use of each service.\n",
    "\n",
    "Ans. There are two AWS servuces used in this project:\n",
    "    1. Code Pipeline\n",
    "    2. Elastic Beanstack\n",
    "    \n",
    "1. Code Pipeline : Code Pipeline is used to integrate Github and Beanstack.\n",
    "2. Elastic Beanstack : It is used to make environment on aws cloud system."
   ]
  }
 ],
 "metadata": {
  "kernelspec": {
   "display_name": "Python 3 (ipykernel)",
   "language": "python",
   "name": "python3"
  },
  "language_info": {
   "codemirror_mode": {
    "name": "ipython",
    "version": 3
   },
   "file_extension": ".py",
   "mimetype": "text/x-python",
   "name": "python",
   "nbconvert_exporter": "python",
   "pygments_lexer": "ipython3",
   "version": "3.10.8"
  }
 },
 "nbformat": 4,
 "nbformat_minor": 5
}
